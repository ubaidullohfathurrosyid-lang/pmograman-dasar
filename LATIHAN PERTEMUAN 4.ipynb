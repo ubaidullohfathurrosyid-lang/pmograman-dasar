{
  "nbformat": 4,
  "nbformat_minor": 0,
  "metadata": {
    "colab": {
      "provenance": [],
      "authorship_tag": "ABX9TyPetjrZ3Mmi4mR8HcW1VBzO",
      "include_colab_link": true
    },
    "kernelspec": {
      "name": "python3",
      "display_name": "Python 3"
    },
    "language_info": {
      "name": "python"
    }
  },
  "cells": [
    {
      "cell_type": "markdown",
      "metadata": {
        "id": "view-in-github",
        "colab_type": "text"
      },
      "source": [
        "<a href=\"https://colab.research.google.com/github/ubaidullohfathurrosyid-lang/pmograman-dasar/blob/main/LATIHAN%20PERTEMUAN%204.ipynb\" target=\"_parent\"><img src=\"https://colab.research.google.com/assets/colab-badge.svg\" alt=\"Open In Colab\"/></a>"
      ]
    },
    {
      "cell_type": "markdown",
      "source": [
        "LATIHAN PERTEMUAN 4"
      ],
      "metadata": {
        "id": "eyosK_UVU0_3"
      }
    },
    {
      "cell_type": "code",
      "execution_count": 1,
      "metadata": {
        "colab": {
          "base_uri": "https://localhost:8080/"
        },
        "id": "Owy91Kz6UyMI",
        "outputId": "aa10a7e8-216a-4447-f943-297d3adb55da"
      },
      "outputs": [
        {
          "output_type": "stream",
          "name": "stdout",
          "text": [
            "Masukkan sebuah angka: 25\n",
            "Kelipatan 5\n"
          ]
        }
      ],
      "source": [
        "\n",
        "angka = int(input(\"Masukkan sebuah angka: \"))\n",
        "\n",
        "if angka % 5 == 0:\n",
        "    print(\"Kelipatan 5\")\n",
        "else:\n",
        "    print(\"Bukan kelipatan 5\")\n",
        ""
      ]
    },
    {
      "cell_type": "code",
      "source": [
        "tahun = int(input(\"Masukkan tahun: \"))\n",
        "\n",
        "if tahun % 400 == 0:\n",
        "    print(\"Tahun Kabisat\")\n",
        "elif tahun % 4 == 0 and tahun % 100 != 0:\n",
        "    print(\"Tahun Kabisat\")\n",
        "else:\n",
        "    print(\"Bukan Tahun Kabisat\")"
      ],
      "metadata": {
        "colab": {
          "base_uri": "https://localhost:8080/"
        },
        "id": "gRljWlZAVdZN",
        "outputId": "02d67f2f-c968-4316-da54-554b1eeff34b"
      },
      "execution_count": 2,
      "outputs": [
        {
          "output_type": "stream",
          "name": "stdout",
          "text": [
            "Masukkan tahun: 2028\n",
            "Tahun Kabisat\n"
          ]
        }
      ]
    },
    {
      "cell_type": "code",
      "source": [
        "\n",
        "print(\"Program Matematika Sederhana\")\n",
        "angka1 = float(input(\"Masukkan angka pertama: \"))\n",
        "angka2 = float(input(\"Masukkan angka kedua: \"))\n",
        "operasi = input(\"Pilih operasi (+, -, *, /): \")\n",
        "\n",
        "if operasi == '+':\n",
        "    hasil = angka1 + angka2\n",
        "elif operasi == '-':\n",
        "    hasil = angka1 - angka2\n",
        "elif operasi == '*':\n",
        "    hasil = angka1 * angka2\n",
        "elif operasi == '/':\n",
        "    if angka2 != 0:\n",
        "        hasil = angka1 / angka2\n",
        "    else:\n",
        "        hasil = \"Tidak bisa dibagi 0\"\n",
        "else:\n",
        "    hasil = \"Operasi salah\"\n",
        "\n",
        "print(\"Hasil:\", hasil)"
      ],
      "metadata": {
        "colab": {
          "base_uri": "https://localhost:8080/"
        },
        "id": "4Txxwb_IV8Kw",
        "outputId": "2f81b011-9fef-44c0-a1c9-623f0df3a36e"
      },
      "execution_count": 4,
      "outputs": [
        {
          "output_type": "stream",
          "name": "stdout",
          "text": [
            "Program Matematika Sederhana\n",
            "Masukkan angka pertama: 3\n",
            "Masukkan angka kedua: 5\n",
            "Pilih operasi (+, -, *, /): +\n",
            "Hasil: 8.0\n"
          ]
        }
      ]
    },
    {
      "cell_type": "code",
      "source": [
        "\n",
        "bulan = int(input(\"Masukkan angka bulan (1-12): \"))\n",
        "\n",
        "nama_bulan = [\"Januari\", \"Februari\", \"Maret\", \"April\", \"Mei\", \"Juni\",\n",
        "              \"Juli\", \"Agustus\", \"September\", \"Oktober\", \"November\", \"Desember\"]\n",
        "\n",
        "if 1 <= bulan <= 12:\n",
        "    print(\"Bulan:\", nama_bulan[bulan - 1])\n",
        "else:\n",
        "    print(\"Input salah\")"
      ],
      "metadata": {
        "colab": {
          "base_uri": "https://localhost:8080/"
        },
        "id": "ToqnELgSWtqB",
        "outputId": "72098058-aedf-4d37-9928-8b269c192f91"
      },
      "execution_count": 5,
      "outputs": [
        {
          "output_type": "stream",
          "name": "stdout",
          "text": [
            "Masukkan angka bulan (1-12): 10\n",
            "Bulan: Oktober\n"
          ]
        }
      ]
    },
    {
      "cell_type": "code",
      "source": [
        "jam = int(input(\"Masukkan jam (0-23): \"))\n",
        "\n",
        "if 0 <= jam <= 11:\n",
        "    print(\"Selamat Pagi\")\n",
        "elif jam == 12:\n",
        "    print(\"Selamat Siang\")\n",
        "elif 13 <= jam <= 15:\n",
        "    print(\"Selamat Siang\")\n",
        "elif 16 <= jam <= 18:\n",
        "    print(\"Selamat Sore\")\n",
        "elif 19 <= jam <= 23:\n",
        "    print(\"Selamat Malam\")\n",
        "else:\n",
        "    print(\"Input jam salah\")"
      ],
      "metadata": {
        "colab": {
          "base_uri": "https://localhost:8080/"
        },
        "id": "Pl_G66A4W4H_",
        "outputId": "9c00aefc-306f-4b6e-e808-87eef66ebdc1"
      },
      "execution_count": 6,
      "outputs": [
        {
          "output_type": "stream",
          "name": "stdout",
          "text": [
            "Masukkan jam (0-23): 22\n",
            "Selamat Malam\n"
          ]
        }
      ]
    }
  ]
}