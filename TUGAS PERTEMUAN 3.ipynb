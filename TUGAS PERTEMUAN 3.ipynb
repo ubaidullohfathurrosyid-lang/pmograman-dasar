{
  "nbformat": 4,
  "nbformat_minor": 0,
  "metadata": {
    "colab": {
      "provenance": [],
      "authorship_tag": "ABX9TyOQluMgRoE553FPDXFW7P7T",
      "include_colab_link": true
    },
    "kernelspec": {
      "name": "python3",
      "display_name": "Python 3"
    },
    "language_info": {
      "name": "python"
    }
  },
  "cells": [
    {
      "cell_type": "markdown",
      "metadata": {
        "id": "view-in-github",
        "colab_type": "text"
      },
      "source": [
        "<a href=\"https://colab.research.google.com/github/ubaidullohfathurrosyid-lang/pmograman-dasar/blob/main/TUGAS%20PERTEMUAN%203.ipynb\" target=\"_parent\"><img src=\"https://colab.research.google.com/assets/colab-badge.svg\" alt=\"Open In Colab\"/></a>"
      ]
    },
    {
      "cell_type": "markdown",
      "source": [
        "TUGAS PERTEMUAN 3"
      ],
      "metadata": {
        "id": "0j3YsvyPnFe2"
      }
    },
    {
      "cell_type": "code",
      "source": [
        "# Program Kasir Sederhana\n",
        "\n",
        "# Input data\n",
        "items = [21000, 60000, 20000]   # daftar harga barang yang dibeli\n",
        "is_member = True                # status keanggotaan pelanggan (True = member, False = bukan)\n",
        "\n",
        "# 1. Hitung Subtotal\n",
        "subtotal = sum(items)\n",
        "print(\"Subtotal: Rp\", subtotal)\n",
        "\n",
        "# 2. Evaluasi syarat diskon\n",
        "if is_member and subtotal > 100000:\n",
        "    diskon = 0.15 * subtotal\n",
        "else:\n",
        "    diskon = 0\n",
        "\n",
        "# 3. Hitung jumlah diskon\n",
        "print(\"Diskon: Rp\", diskon)\n",
        "\n",
        "# 4. Hitung harga setelah diskon\n",
        "harga_setelah_diskon = subtotal - diskon\n",
        "print(\"Harga setelah diskon: Rp\", harga_setelah_diskon)\n",
        "\n",
        "# 5. Hitung PPN 11%\n",
        "ppn = 0.11 * harga_setelah_diskon\n",
        "print(\"PPN (11%): Rp\", ppn)\n",
        "\n",
        "# 6. Hitung total akhir\n",
        "total_akhir = harga_setelah_diskon + ppn\n",
        "print(\"Total Akhir yang harus dibayar: Rp\", total_akhir)"
      ],
      "metadata": {
        "colab": {
          "base_uri": "https://localhost:8080/"
        },
        "id": "YvfTBpvHnRTI",
        "outputId": "7262c548-286a-4de2-d1ea-0ca354ef87e6"
      },
      "execution_count": 1,
      "outputs": [
        {
          "output_type": "stream",
          "name": "stdout",
          "text": [
            "Subtotal: Rp 101000\n",
            "Diskon: Rp 15150.0\n",
            "Harga setelah diskon: Rp 85850.0\n",
            "PPN (11%): Rp 9443.5\n",
            "Total Akhir yang harus dibayar: Rp 95293.5\n"
          ]
        }
      ]
    }
  ]
}