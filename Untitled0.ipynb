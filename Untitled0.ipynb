{
  "nbformat": 4,
  "nbformat_minor": 0,
  "metadata": {
    "colab": {
      "provenance": [],
      "authorship_tag": "ABX9TyOuw7ZF4tXhdqVHPvjB3EHt",
      "include_colab_link": true
    },
    "kernelspec": {
      "name": "python3",
      "display_name": "Python 3"
    },
    "language_info": {
      "name": "python"
    }
  },
  "cells": [
    {
      "cell_type": "markdown",
      "metadata": {
        "id": "view-in-github",
        "colab_type": "text"
      },
      "source": [
        "<a href=\"https://colab.research.google.com/github/ubaidullohfathurrosyid-lang/pmograman-dasar/blob/main/Untitled0.ipynb\" target=\"_parent\"><img src=\"https://colab.research.google.com/assets/colab-badge.svg\" alt=\"Open In Colab\"/></a>"
      ]
    },
    {
      "cell_type": "code",
      "execution_count": 4,
      "metadata": {
        "colab": {
          "base_uri": "https://localhost:8080/"
        },
        "id": "cyougFwDBho3",
        "outputId": "d30926f6-e134-4e08-8a76-a50ffbfb6078"
      },
      "outputs": [
        {
          "output_type": "stream",
          "name": "stdout",
          "text": [
            "43\n",
            "15\n",
            "34\n"
          ]
        }
      ],
      "source": [
        "# deklarasi variabel list\n",
        "numbers = [23, 43, 15, 34]\n",
        "#cara mengakses elemen dalam variabel list\n",
        "numbers [0] #23\n",
        "numbers [1] #43\n",
        "numbers [2] #15\n",
        "numbers [3] #34\n",
        "#cara mengubah nilai elemen dalam variabel list\n",
        "numbers [2] #51\n",
        "numbers [2] #51\n",
        "\n",
        "print (numbers[1])\n",
        "print (numbers[2])\n",
        "print (numbers[3])\n"
      ]
    },
    {
      "cell_type": "code",
      "source": [
        "# deklarasi variabel list numbers\n",
        "numbers = [1, 2, 3]\n",
        "\n",
        "#menambahkan elemen di indeks ke-4\n",
        "numbers.insert(4,5)  #[1, 2, 3, 5]\n",
        "\n",
        "# mengubah elemen di indeks ke-4\n",
        "numbers [3] = 4  #[1, 2, 3, 4]\n",
        "\n",
        "# menghapus elemen di indeks ke-2\n",
        "numbers.pop(2)  #[1, 2, 4]\n",
        "\n",
        "#print lalu lihat hasilya\n"
      ],
      "metadata": {
        "colab": {
          "base_uri": "https://localhost:8080/"
        },
        "id": "xkOFiJGoH7rJ",
        "outputId": "7f1d917b-876a-4c30-f4ed-c095b7ca6c96"
      },
      "execution_count": 13,
      "outputs": [
        {
          "output_type": "execute_result",
          "data": {
            "text/plain": [
              "3"
            ]
          },
          "metadata": {},
          "execution_count": 13
        }
      ]
    },
    {
      "cell_type": "code",
      "source": [
        "x = [\"laptop\", \"monitor\", \"mouse\", \"mousepad\", \"keyboard\", \"webcam\", \"microphone\"]\n",
        "\n",
        "print(x[0:5:2])\n",
        "\n",
        "print(x[1:])\n",
        "\n",
        "print(x[:3])"
      ],
      "metadata": {
        "colab": {
          "base_uri": "https://localhost:8080/"
        },
        "id": "ZKkVZ6tOtdgP",
        "outputId": "092ee289-52fe-462b-cc74-9d168a6d882f"
      },
      "execution_count": 14,
      "outputs": [
        {
          "output_type": "stream",
          "name": "stdout",
          "text": [
            "['laptop', 'mouse', 'keyboard']\n",
            "['monitor', 'mouse', 'mousepad', 'keyboard', 'webcam', 'microphone']\n",
            "['laptop', 'monitor', 'mouse']\n"
          ]
        }
      ]
    },
    {
      "cell_type": "code",
      "source": [
        "x = (1, \"Polibatam\", 1+3j)\n",
        "print(type(x))"
      ],
      "metadata": {
        "colab": {
          "base_uri": "https://localhost:8080/"
        },
        "id": "mqn6gA-HuQmP",
        "outputId": "69e8b4c8-1df7-42be-fb22-628e6d3ff3cd"
      },
      "execution_count": 17,
      "outputs": [
        {
          "output_type": "stream",
          "name": "stdout",
          "text": [
            "<class 'tuple'>\n"
          ]
        }
      ]
    },
    {
      "cell_type": "code",
      "source": [
        "x= (5, 'program', 1+3j)\n",
        "print(x[1])\n",
        "print(x[0:3])"
      ],
      "metadata": {
        "colab": {
          "base_uri": "https://localhost:8080/"
        },
        "id": "TfqEfHFouUo5",
        "outputId": "d35c4ff9-c4bb-4812-d626-f527d14709ac"
      },
      "execution_count": 19,
      "outputs": [
        {
          "output_type": "stream",
          "name": "stdout",
          "text": [
            "program\n",
            "(5, 'program', (1+3j))\n"
          ]
        }
      ]
    },
    {
      "cell_type": "code",
      "source": [
        "x = (5, 'program', 1+35)\n",
        "\n",
        "x[1] = 'Polibatam'"
      ],
      "metadata": {
        "colab": {
          "base_uri": "https://localhost:8080/",
          "height": 183
        },
        "id": "KVtMtNYKuYjo",
        "outputId": "a8268673-27bb-4b1b-a65a-7f766285a480"
      },
      "execution_count": 20,
      "outputs": [
        {
          "output_type": "error",
          "ename": "TypeError",
          "evalue": "'tuple' object does not support item assignment",
          "traceback": [
            "\u001b[0;31m---------------------------------------------------------------------------\u001b[0m",
            "\u001b[0;31mTypeError\u001b[0m                                 Traceback (most recent call last)",
            "\u001b[0;32m/tmp/ipython-input-3511487087.py\u001b[0m in \u001b[0;36m<cell line: 0>\u001b[0;34m()\u001b[0m\n\u001b[1;32m      1\u001b[0m \u001b[0mx\u001b[0m \u001b[0;34m=\u001b[0m \u001b[0;34m(\u001b[0m\u001b[0;36m5\u001b[0m\u001b[0;34m,\u001b[0m \u001b[0;34m'program'\u001b[0m\u001b[0;34m,\u001b[0m \u001b[0;36m1\u001b[0m\u001b[0;34m+\u001b[0m\u001b[0;36m35\u001b[0m\u001b[0;34m)\u001b[0m\u001b[0;34m\u001b[0m\u001b[0;34m\u001b[0m\u001b[0m\n\u001b[1;32m      2\u001b[0m \u001b[0;34m\u001b[0m\u001b[0m\n\u001b[0;32m----> 3\u001b[0;31m \u001b[0mx\u001b[0m\u001b[0;34m[\u001b[0m\u001b[0;36m1\u001b[0m\u001b[0;34m]\u001b[0m \u001b[0;34m=\u001b[0m \u001b[0;34m'Polibatam'\u001b[0m\u001b[0;34m\u001b[0m\u001b[0;34m\u001b[0m\u001b[0m\n\u001b[0m",
            "\u001b[0;31mTypeError\u001b[0m: 'tuple' object does not support item assignment"
          ]
        }
      ]
    },
    {
      "cell_type": "code",
      "source": [
        "#deklarasi variabel tuple\n",
        "\n",
        "numbers = (23, 43, 15, 34)\n",
        "\n",
        "# cara mengakses elemen dalam variabel tuple\n",
        "\n",
        "numbers [0] #23\n",
        "\n",
        "numbers [1] #43\n",
        "\n",
        "numbers [2] #15\n",
        "\n",
        "#lakukan print lalu amati hasilnya"
      ],
      "metadata": {
        "colab": {
          "base_uri": "https://localhost:8080/"
        },
        "id": "Sde1Y9yfvulv",
        "outputId": "259f7464-78df-4251-98d6-2bdf68be4f2d"
      },
      "execution_count": 23,
      "outputs": [
        {
          "output_type": "execute_result",
          "data": {
            "text/plain": [
              "15"
            ]
          },
          "metadata": {},
          "execution_count": 23
        }
      ]
    },
    {
      "cell_type": "code",
      "source": [
        "# deklarasi variabel set a dan b\n",
        " a = {1, 2, 3}\n",
        " b = {2, 3, 4}\n",
        "\n",
        "#operasi gabungan\n",
        "a.union(b) #{1, 2, 3, 4}\n",
        "\n",
        "#operasi irisan\n",
        "a.intersection(b) # {2, 3}\n",
        "\n",
        "#operasi perbedaan\n",
        "S\n",
        "a.symmetric_difference(b) #{1,4}\n",
        "\n",
        "#lakukan print dan lihat hasilnya"
      ],
      "metadata": {
        "colab": {
          "base_uri": "https://localhost:8080/"
        },
        "id": "N5xV1ek4we7f",
        "outputId": "c7b6aefa-892b-4570-bc42-3a30e0f32dc7"
      },
      "execution_count": 29,
      "outputs": [
        {
          "output_type": "execute_result",
          "data": {
            "text/plain": [
              "{1, 4}"
            ]
          },
          "metadata": {},
          "execution_count": 29
        }
      ]
    },
    {
      "cell_type": "markdown",
      "source": [
        "TUGAS PERTEMUAN 2"
      ],
      "metadata": {
        "id": "ZHo2OvkuDUls"
      }
    },
    {
      "cell_type": "markdown",
      "source": [
        "no.1\n"
      ],
      "metadata": {
        "id": "Yx3tV-iKFztj"
      }
    },
    {
      "cell_type": "code",
      "source": [
        "#TODO:\n",
        "firstname = 'Ubaidulloh'\n",
        "lastname = 'Fathurrosyid'\n",
        "age = 22\n",
        "student = False\n",
        "\n",
        "print(\"firstname:\", firstname)\n",
        "print(\"lastname:\", lastname)\n",
        "print(\"age:\", age)\n",
        "print(\"student\", student)\n"
      ],
      "metadata": {
        "id": "S3raZqyODZ-S",
        "outputId": "7bd9be2a-0ffb-4b2c-bf76-3968139e9753",
        "colab": {
          "base_uri": "https://localhost:8080/"
        }
      },
      "execution_count": 35,
      "outputs": [
        {
          "output_type": "stream",
          "name": "stdout",
          "text": [
            "firstname: Ubaidulloh\n",
            "lastname: Fathurrosyid\n",
            "age: 22\n",
            "student False\n"
          ]
        }
      ]
    },
    {
      "cell_type": "markdown",
      "source": [
        "no.2"
      ],
      "metadata": {
        "id": "fHV8Xl4eF7ES"
      }
    },
    {
      "cell_type": "code",
      "source": [
        "# TODO\n",
        "data_diri = {'firstname':'Ubaidulloh','lastname':'Fathurrisyid','age':'20','student':False}\n",
        "\n",
        "print(data_diri)"
      ],
      "metadata": {
        "id": "JpYN0A28F_Gi",
        "outputId": "2075f42c-556a-45e0-d44c-053e47e5dc94",
        "colab": {
          "base_uri": "https://localhost:8080/"
        }
      },
      "execution_count": 37,
      "outputs": [
        {
          "output_type": "stream",
          "name": "stdout",
          "text": [
            "{'firstname': 'Ubaidulloh', 'lastname': 'Fathurrisyid', 'age': '20', 'student': False}\n"
          ]
        }
      ]
    },
    {
      "cell_type": "markdown",
      "source": [
        "no.3"
      ],
      "metadata": {
        "id": "St1jwwb3ItSh"
      }
    },
    {
      "cell_type": "code",
      "source": [
        "inspeksi = [\"pemahaman terhadap rencana dan desain\", \"ketersediaan bahan dan peralatan\", \"pengawasan pekerjaan\",\n",
        "\n",
        "print(\"daftar inspeksi proyek:\")\n",
        "\n",
        "for i in range(len(inspeksi)):\n",
        "\n",
        "print(f\"(1+1). (inspeksi[1]1\")"
      ],
      "metadata": {
        "id": "8URwGVigIw2I",
        "outputId": "ec3a0fc0-119f-4d85-c3c1-0add3ff3cd05",
        "colab": {
          "base_uri": "https://localhost:8080/",
          "height": 110
        }
      },
      "execution_count": 39,
      "outputs": [
        {
          "output_type": "error",
          "ename": "SyntaxError",
          "evalue": "'[' was never closed (ipython-input-926013933.py, line 1)",
          "traceback": [
            "\u001b[0;36m  File \u001b[0;32m\"/tmp/ipython-input-926013933.py\"\u001b[0;36m, line \u001b[0;32m1\u001b[0m\n\u001b[0;31m    inspeksi = [\"pemahaman terhadap rencana dan desain\", \"ketersediaan bahan dan peralatan\", \"pengawasan pekerjaan\",\u001b[0m\n\u001b[0m               ^\u001b[0m\n\u001b[0;31mSyntaxError\u001b[0m\u001b[0;31m:\u001b[0m '[' was never closed\n"
          ]
        }
      ]
    },
    {
      "cell_type": "markdown",
      "source": [
        "no.4"
      ],
      "metadata": {
        "id": "FRm0Ni9-J1dZ"
      }
    },
    {
      "cell_type": "code",
      "source": [
        "#waktu datang\n",
        "startime = {\"HH\": 9, \"mm\": 23, \"ss\": 57}\n",
        "\n",
        "# waktu pulang\n",
        "endtime = {\"HH\": 15, \"mm\": 25, \"ss\": 43}\n",
        "\n",
        "print(\"waktu datang :\", startime)\n",
        "print(\"waktu pulang:\", endtime)"
      ],
      "metadata": {
        "colab": {
          "base_uri": "https://localhost:8080/"
        },
        "id": "5DKRD1I7J4C3",
        "outputId": "827bc102-1c3e-4271-cb24-105e301e1010"
      },
      "execution_count": 44,
      "outputs": [
        {
          "output_type": "stream",
          "name": "stdout",
          "text": [
            "waktu datang : {'HH': 9, 'mm': 23, 'ss': 57}\n",
            "waktu pulang: {'HH': 15, 'mm': 25, 'ss': 43}\n"
          ]
        }
      ]
    },
    {
      "cell_type": "markdown",
      "source": [
        "no.5"
      ],
      "metadata": {
        "id": "1BRgeyhGMr6u"
      }
    },
    {
      "cell_type": "code",
      "source": [
        "# STUDI KELAS : PENGGABUNGAN DAN ANALISIS KATALOG PRODUK\n",
        "katalog_A = {\"oli\", \"ban\", \"lampu motor\", \"kampas rem\"}\n",
        "katalog_B = {\"piston\", \"oli\", \"ban\", \"bearing\"}\n",
        "\n",
        "produk_diskon = (\"oli\", \"ban\", \"noken as\")\n",
        "\n",
        "# gabungkan katalog_A dan katalog_B menjadi satu set unik\n",
        "katalog_lengkap = katalog_A.union(katalog_B)\n",
        "\n",
        "# cari produk mana saja dari katalog_lengkap dan produk_diskon\n",
        "produk_promo_aktif = katalog_lengkap.intersection(set(produk_diskon))\n",
        "\n",
        "# tampilkan hasil\n",
        "print(\"katalog lengkap:\", katalog_lengkap)\n",
        "print(\"produk diskon:\", produk_diskon)\n",
        "print(\"produk promo aktif:\", produk_promo_aktif)"
      ],
      "metadata": {
        "id": "bAOPE8AlMubG",
        "outputId": "14508af0-f495-4721-f616-86655db38318",
        "colab": {
          "base_uri": "https://localhost:8080/"
        }
      },
      "execution_count": 45,
      "outputs": [
        {
          "output_type": "stream",
          "name": "stdout",
          "text": [
            "katalog lengkap: {'bearing', 'kampas rem', 'ban', 'lampu motor', 'oli', 'piston'}\n",
            "produk diskon: ('oli', 'ban', 'noken as')\n",
            "produk promo aktif: {'oli', 'ban'}\n"
          ]
        }
      ]
    }
  ]
}