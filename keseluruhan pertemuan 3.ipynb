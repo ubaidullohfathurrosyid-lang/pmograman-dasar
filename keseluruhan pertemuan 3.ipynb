{
  "nbformat": 4,
  "nbformat_minor": 0,
  "metadata": {
    "colab": {
      "provenance": [],
      "authorship_tag": "ABX9TyNq5Zs9DAw4T1pUOeh7F2nT",
      "include_colab_link": true
    },
    "kernelspec": {
      "name": "python3",
      "display_name": "Python 3"
    },
    "language_info": {
      "name": "python"
    }
  },
  "cells": [
    {
      "cell_type": "markdown",
      "metadata": {
        "id": "view-in-github",
        "colab_type": "text"
      },
      "source": [
        "<a href=\"https://colab.research.google.com/github/ubaidullohfathurrosyid-lang/pmograman-dasar/blob/main/keseluruhan%20pertemuan%203.ipynb\" target=\"_parent\"><img src=\"https://colab.research.google.com/assets/colab-badge.svg\" alt=\"Open In Colab\"/></a>"
      ]
    },
    {
      "cell_type": "markdown",
      "source": [
        "PERTEMUAN 3"
      ],
      "metadata": {
        "id": "i3D-IqvmhicZ"
      }
    },
    {
      "cell_type": "code",
      "execution_count": 2,
      "metadata": {
        "colab": {
          "base_uri": "https://localhost:8080/"
        },
        "id": "l8zb30kiXZ_S",
        "outputId": "7805b3ee-b1b3-41c3-97b3-3a4cc36b4877"
      },
      "outputs": [
        {
          "name": "stdout",
          "output_type": "stream",
          "text": [
            "Berapa porsi makan yang Anda beli?: 3\n",
            "Siapa Nama Pelanggan?: ubai\n"
          ]
        }
      ],
      "source": [
        "total = float(input(\"Berapa porsi makan yang Anda beli?: \"))\n",
        "Nama = str(input(\"Siapa Nama Pelanggan?: \"))"
      ]
    },
    {
      "cell_type": "code",
      "source": [
        "food = \"bubur ayam\"\n",
        "\n",
        "print(\"frans sedang memesan\")"
      ],
      "metadata": {
        "colab": {
          "base_uri": "https://localhost:8080/"
        },
        "id": "uZ-G3jMIYSje",
        "outputId": "dcd057d2-8bc3-4f7b-970c-ba565002d44a"
      },
      "execution_count": 25,
      "outputs": [
        {
          "output_type": "stream",
          "name": "stdout",
          "text": [
            "frans sedang memesan\n"
          ]
        }
      ]
    },
    {
      "cell_type": "code",
      "source": [
        "food = \"bubur ayam\"\n",
        "\n",
        "print(\"ubai sedang memesan\", food)\n",
        "\n",
        "print(\"ubai sedang memesan\"+food)\n",
        "\n",
        "print(\"ubai sedang memesan %s\" % (food))"
      ],
      "metadata": {
        "colab": {
          "base_uri": "https://localhost:8080/"
        },
        "id": "BcSdU6POYqs_",
        "outputId": "51f47b84-bad9-4287-9019-685df66e056a"
      },
      "execution_count": 26,
      "outputs": [
        {
          "output_type": "stream",
          "name": "stdout",
          "text": [
            "ubai sedang memesan bubur ayam\n",
            "ubai sedang memesanbubur ayam\n",
            "ubai sedang memesan bubur ayam\n"
          ]
        }
      ]
    },
    {
      "cell_type": "code",
      "source": [
        "food = \"mie goreng \"\n",
        "print(\"ubai sedang memesan\", food)\n",
        "print (\"ubai sedang memesan\"+ food)\n",
        "print (\"ubai sedang memesan %s\"% (food))\n",
        ""
      ],
      "metadata": {
        "colab": {
          "base_uri": "https://localhost:8080/"
        },
        "id": "qXeAgeQGay7H",
        "outputId": "c088a145-c8be-455d-f058-b040e52f4dd6"
      },
      "execution_count": 9,
      "outputs": [
        {
          "output_type": "stream",
          "name": "stdout",
          "text": [
            "ubai sedang memesan mie goreng \n",
            "ubai sedang memesanmie goreng \n",
            "ubai sedang memesan mie goreng \n"
          ]
        }
      ]
    },
    {
      "cell_type": "code",
      "source": [
        "a = 20\n",
        "b = 5\n",
        "print(\"penjumlahan:\",a+b )\n",
        "print(\"pengurangan:\",a-b)\n",
        "print(\"perkalian:\",a*b)\n",
        "print(\"pembagian:\",a/b)\n",
        "\n"
      ],
      "metadata": {
        "colab": {
          "base_uri": "https://localhost:8080/"
        },
        "id": "-_nSG2opbKrU",
        "outputId": "8f89eba1-2475-4ff9-9d7a-659c4e295040"
      },
      "execution_count": 11,
      "outputs": [
        {
          "output_type": "stream",
          "name": "stdout",
          "text": [
            "penjumlahan: 25\n",
            "pengurangan: 15\n",
            "perkalian: 100\n",
            "pembagian: 4.0\n"
          ]
        }
      ]
    },
    {
      "cell_type": "code",
      "source": [
        "bilangan = 10\n",
        "hasil =(bilangan > 0) and (bilangan % 2 ==0)\n",
        "print (\"genap dan positif?\",hasil)"
      ],
      "metadata": {
        "colab": {
          "base_uri": "https://localhost:8080/"
        },
        "id": "tC4rPWGQcHW1",
        "outputId": "2112177e-12d2-47d5-9051-2cf95fcc11b2"
      },
      "execution_count": 13,
      "outputs": [
        {
          "output_type": "stream",
          "name": "stdout",
          "text": [
            "genap dan positif? True\n"
          ]
        }
      ]
    },
    {
      "cell_type": "code",
      "source": [
        "#konversi waktu\n",
        "total_detik= 3600\n",
        "jam = total_detik//3600\n",
        "sisa_detik = total_detik%3600\n",
        "menit = sisa_detik//6\n",
        "detik = sisa_detik%60\n",
        "print(f\"hasil konversi:{jam}jam, {menit}menit,{detik}detik\")\n",
        ""
      ],
      "metadata": {
        "colab": {
          "base_uri": "https://localhost:8080/"
        },
        "id": "wZgkTJ1pc7Jm",
        "outputId": "f52d98ab-cfbc-4667-a3b4-4f4b009331bb"
      },
      "execution_count": 14,
      "outputs": [
        {
          "output_type": "stream",
          "name": "stdout",
          "text": [
            "hasil konversi:1jam, 0menit,0detik\n"
          ]
        }
      ]
    },
    {
      "cell_type": "code",
      "source": [
        "harga_makan= int (input(\"berapa harga mie goreng per porsi?\"))\n",
        "jumlah_makan= int (input(\"berapa porsi yang anda beli?\"))\n",
        "total_makan=harga_makan*jumlah_makan\n",
        "\n",
        "print(f\"harga makan per porsi ={harga_makan};totalnya adalah {total_makan}\")\n",
        ""
      ],
      "metadata": {
        "colab": {
          "base_uri": "https://localhost:8080/"
        },
        "id": "LXtCx5e9f-nv",
        "outputId": "6a4a0a39-1e58-4138-9bba-704f0566003f"
      },
      "execution_count": 22,
      "outputs": [
        {
          "output_type": "stream",
          "name": "stdout",
          "text": [
            "berapa harga mie goreng per porsi?25000\n",
            "berapa porsi yang anda beli?4\n",
            "harga makan per porsi =25000;totalnya adalah 100000\n"
          ]
        }
      ]
    },
    {
      "cell_type": "code",
      "source": [
        "tugas = 95\n",
        "uts = 92\n",
        "uas = 89\n",
        "nilai_akhir =(0.3*tugas )+(0.3*uts)+(0.3*uas)\n",
        "print(\"nilai akhir=\",nilai_akhir)\n",
        "\n",
        "nilai_akhir = 76.8"
      ],
      "metadata": {
        "colab": {
          "base_uri": "https://localhost:8080/"
        },
        "id": "QoDinJpbdeC-",
        "outputId": "25917c57-1152-4e46-a4e1-7ee477ebbb23"
      },
      "execution_count": 20,
      "outputs": [
        {
          "output_type": "stream",
          "name": "stdout",
          "text": [
            "nilai akhir= 82.8\n"
          ]
        }
      ]
    },
    {
      "cell_type": "code",
      "source": [
        "nilai_mahasiswa = 95\n",
        "standar_kelulusan = 80\n",
        "apakah_lulus = nilai_mahasiswa >= standar_kelulusan\n",
        "perlu_remedial = nilai_mahasiswa < standar_kelulusan\n",
        "print (f\"nilai mahasiswa :{nilai_mahasiswa}\")\n",
        "print (f\"standar kelulusan:{standar_kelulusan}\")\n",
        "print (f\"apakah mahasiswa lulus?{apakah_lulus}\")\n",
        "print (f\"perlu remedial? {perlu_remedial}\")\n",
        ""
      ],
      "metadata": {
        "colab": {
          "base_uri": "https://localhost:8080/"
        },
        "id": "E78fyFm7gfko",
        "outputId": "d78bcb68-8190-43ec-84cc-5779a0a971bc"
      },
      "execution_count": 23,
      "outputs": [
        {
          "output_type": "stream",
          "name": "stdout",
          "text": [
            "nilai mahasiswa :95\n",
            "standar kelulusan:80\n",
            "apakah mahasiswa lulus?True\n",
            "perlu remedial? False\n"
          ]
        }
      ]
    },
    {
      "cell_type": "code",
      "source": [
        "belanja = 2500000\n",
        "diskon = (0,0.5*belanja)[belanja>500000]\n",
        "total_harga = belanja - diskon\n",
        "print (\"total harga setelah diskon =\", total_harga)"
      ],
      "metadata": {
        "colab": {
          "base_uri": "https://localhost:8080/"
        },
        "id": "jBOIIT2Rg5hx",
        "outputId": "f8264771-85e8-4092-879b-be5e40314dfb"
      },
      "execution_count": 24,
      "outputs": [
        {
          "output_type": "stream",
          "name": "stdout",
          "text": [
            "total harga setelah diskon = 1250000.0\n"
          ]
        }
      ]
    },
    {
      "cell_type": "markdown",
      "source": [
        "LATIHAN PERTEMUAN 3"
      ],
      "metadata": {
        "id": "9ndxXgyeg9Gs"
      }
    },
    {
      "cell_type": "code",
      "source": [
        "# Program Menentukan Tahun Kabisat\n",
        "\n",
        "# Fungsi input\n",
        "def input_tahun():\n",
        "    return int(input(\"Masukkan tahun: \"))\n",
        "\n",
        "# Fungsi proses (operasi logika dan aritmatika)\n",
        "def cek_kabisat(tahun):\n",
        "    if (tahun % 4 == 0 and tahun % 100 != 0) or (tahun % 400 == 0):\n",
        "        return True\n",
        "    else:\n",
        "        return False\n",
        "\n",
        "# Fungsi output\n",
        "def output_hasil(tahun, hasil):\n",
        "    if hasil:\n",
        "        print(f\"Tahun {tahun} adalah tahun kabisat.\")\n",
        "    else:\n",
        "        print(f\"Tahun {tahun} bukan tahun kabisat.\")\n",
        "\n",
        "# Program utama (lingkup program)\n",
        "def main():\n",
        "    tahun = input_tahun()\n",
        "    hasil = cek_kabisat(tahun)\n",
        "    output_hasil(tahun, hasil)\n",
        "\n",
        "# Eksekusi program\n",
        "main()"
      ],
      "metadata": {
        "colab": {
          "base_uri": "https://localhost:8080/"
        },
        "id": "ptg35iq6hCdC",
        "outputId": "9514378f-6a63-479f-9b10-e3e93d31c70b"
      },
      "execution_count": 27,
      "outputs": [
        {
          "output_type": "stream",
          "name": "stdout",
          "text": [
            "Masukkan tahun: 2024\n",
            "Tahun 2024 adalah tahun kabisat.\n"
          ]
        }
      ]
    },
    {
      "cell_type": "markdown",
      "source": [
        "TUGAS PERTEMUAN 3"
      ],
      "metadata": {
        "id": "trNkpmPQiF1G"
      }
    },
    {
      "cell_type": "code",
      "source": [
        "# Program Kasir Sederhana\n",
        "\n",
        "# Input data\n",
        "items = [21000, 60000, 20000]   # daftar harga barang yang dibeli\n",
        "is_member = True                # status keanggotaan pelanggan (True = member, False = bukan)\n",
        "\n",
        "# 1. Hitung Subtotal\n",
        "subtotal = sum(items)\n",
        "print(\"Subtotal: Rp\", subtotal)\n",
        "\n",
        "# 2. Evaluasi syarat diskon\n",
        "if is_member and subtotal > 100000:\n",
        "    diskon = 0.15 * subtotal\n",
        "else:\n",
        "    diskon = 0\n",
        "\n",
        "# 3. Hitung jumlah diskon\n",
        "print(\"Diskon: Rp\", diskon)\n",
        "\n",
        "# 4. Hitung harga setelah diskon\n",
        "harga_setelah_diskon = subtotal - diskon\n",
        "print(\"Harga setelah diskon: Rp\", harga_setelah_diskon)\n",
        "\n",
        "# 5. Hitung PPN 11%\n",
        "ppn = 0.11 * harga_setelah_diskon\n",
        "print(\"PPN (11%): Rp\", ppn)\n",
        "\n",
        "# 6. Hitung total akhir\n",
        "total_akhir = harga_setelah_diskon + ppn\n",
        "print(\"Total Akhir yang harus dibayar: Rp\", total_akhir)"
      ],
      "metadata": {
        "colab": {
          "base_uri": "https://localhost:8080/"
        },
        "id": "pwlSbrG6iKiW",
        "outputId": "6e046685-cc29-4698-b727-7884c11ee170"
      },
      "execution_count": 29,
      "outputs": [
        {
          "output_type": "stream",
          "name": "stdout",
          "text": [
            "Subtotal: Rp 101000\n",
            "Diskon: Rp 15150.0\n",
            "Harga setelah diskon: Rp 85850.0\n",
            "PPN (11%): Rp 9443.5\n",
            "Total Akhir yang harus dibayar: Rp 95293.5\n"
          ]
        }
      ]
    }
  ]
}