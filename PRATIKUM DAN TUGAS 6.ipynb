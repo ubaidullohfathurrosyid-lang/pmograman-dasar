{
  "nbformat": 4,
  "nbformat_minor": 0,
  "metadata": {
    "colab": {
      "provenance": [],
      "authorship_tag": "ABX9TyPTQx0xB1GuvCWHiM3pUXK5",
      "include_colab_link": true
    },
    "kernelspec": {
      "name": "python3",
      "display_name": "Python 3"
    },
    "language_info": {
      "name": "python"
    }
  },
  "cells": [
    {
      "cell_type": "markdown",
      "metadata": {
        "id": "view-in-github",
        "colab_type": "text"
      },
      "source": [
        "<a href=\"https://colab.research.google.com/github/ubaidullohfathurrosyid-lang/pmograman-dasar/blob/main/PRATIKUM%20DAN%20TUGAS%206.ipynb\" target=\"_parent\"><img src=\"https://colab.research.google.com/assets/colab-badge.svg\" alt=\"Open In Colab\"/></a>"
      ]
    },
    {
      "cell_type": "markdown",
      "source": [
        "PRATIKUM PERTEMUAN 6"
      ],
      "metadata": {
        "id": "-cBaAG7Ntbp3"
      }
    },
    {
      "cell_type": "code",
      "source": [
        "def Biodata():\n",
        "    \"\"\"Menampilkan biodata lengkap praktikan.\"\"\"\n",
        "    print(\"===== BIODATA PRAKTIKAN =====\")\n",
        "    print(\"Nama        : UBAIDULLOH FATHURROSYID\")\n",
        "    print(\"NIM         : 4232411009\")\n",
        "    print(\"Prodi       : REKAYASA PEMBANGKIT ENERGI\")\n",
        "    print(\"Kelas       : MALAM A\")\n",
        "    print(\"Hobi        : MEMANCING, ADVENTURE dan FIGHT \")\n",
        "    print(\"==============================\")\n",
        "\n",
        "Biodata()"
      ],
      "metadata": {
        "colab": {
          "base_uri": "https://localhost:8080/"
        },
        "id": "HKM-j7TOthMM",
        "outputId": "fc13d2d2-5074-4ab8-eb1b-4c725f6ab3e5"
      },
      "execution_count": 4,
      "outputs": [
        {
          "output_type": "stream",
          "name": "stdout",
          "text": [
            "===== BIODATA PRAKTIKAN =====\n",
            "Nama        : UBAIDULLOH FATHURROSYID\n",
            "NIM         : 4232411009\n",
            "Prodi       : REKAYASA PEMBANGKIT ENERGI\n",
            "Kelas       : MALAM A\n",
            "Hobi        : MEMANCING, ADVENTURE dan FIGHT \n",
            "==============================\n"
          ]
        }
      ]
    },
    {
      "cell_type": "code",
      "source": [
        "def hitung_volume_balok(panjang, lebar, tinggi):\n",
        "    \"\"\"Menghitung volume balok dari panjang, lebar, dan tinggi.\"\"\"\n",
        "    return panjang * lebar * tinggi\n",
        "\n",
        "p = 14\n",
        "l = 7\n",
        "t = 6\n",
        "print(f\"Volume balok dengan panjang {p}, lebar {l}, dan tinggi {t} adalah: {hitung_volume_balok(p, l, t)}\")\n"
      ],
      "metadata": {
        "colab": {
          "base_uri": "https://localhost:8080/"
        },
        "id": "KRqz44xFusMN",
        "outputId": "a9b73965-46a8-4782-a11e-96e8cfb8b774"
      },
      "execution_count": 5,
      "outputs": [
        {
          "output_type": "stream",
          "name": "stdout",
          "text": [
            "Volume balok dengan panjang 14, lebar 7, dan tinggi 6 adalah: 588\n"
          ]
        }
      ]
    },
    {
      "cell_type": "code",
      "source": [
        "def hitung_rata_rata(data_nilai):\n",
        "    \"\"\"Menghitung rata-rata dari list angka menggunakan perulangan for dan pengecekan nilai.\"\"\"\n",
        "    total = 0\n",
        "    jumlah_data = 0\n",
        "\n",
        "    for nilai in data_nilai:\n",
        "        if 0 <= nilai <= 100:\n",
        "            total += nilai\n",
        "            jumlah_data += 1\n",
        "        else:\n",
        "            print(f\"Nilai {nilai} tidak valid dan tidak dihitung dalam rata-rata.\")\n",
        "\n",
        "    if jumlah_data > 0:\n",
        "        return total / jumlah_data\n",
        "    return 0\n",
        "\n",
        "nilai_praktikan = [89, 86, 96, 75, 92, 100, -7]\n",
        "print(f\"Nilai rata-rata kelas adalah: {hitung_rata_rata(nilai_praktikan)}\")\n",
        ""
      ],
      "metadata": {
        "colab": {
          "base_uri": "https://localhost:8080/"
        },
        "id": "5490Hrn-u1QM",
        "outputId": "c2db7176-ca45-435a-cf38-7e282ab5faa2"
      },
      "execution_count": 10,
      "outputs": [
        {
          "output_type": "stream",
          "name": "stdout",
          "text": [
            "Nilai -7 tidak valid dan tidak dihitung dalam rata-rata.\n",
            "Nilai rata-rata kelas adalah: 89.66666666666667\n"
          ]
        }
      ]
    },
    {
      "cell_type": "code",
      "source": [
        "def tentukan_predikat(skor):\n",
        "    \"\"\"Menentukan predikat (A, B, C, D, E) berdasarkan skor dengan pengecekan tipe data.\"\"\"\n",
        "\n",
        "    if not isinstance(skor, (int, float)):\n",
        "        return \"Error: Input harus berupa angka.\"\n",
        "\n",
        "    if skor >= 85:\n",
        "        return \"A\"\n",
        "    elif skor >= 70:\n",
        "        return \"B\"\n",
        "    elif skor >= 60:\n",
        "        return \"C\"\n",
        "    elif skor >= 50:\n",
        "        return \"D\"\n",
        "    elif skor >= 0:\n",
        "        return \"E\"\n",
        "    else:\n",
        "        return \"Error: Skor tidak boleh negatif.\"\n",
        "\n",
        "print(f\"Skor 75 mendapat predikat: {tentukan_predikat(96)}\")\n",
        "print(f\"Skor 48 mendapat predikat: {tentukan_predikat(72)}\")\n",
        "print(f\"Skor 40 mendapat predikat: {tentukan_predikat(40)}\")\n",
        "print(f\"Skor -10 mendapat predikat: {tentukan_predikat(-10)}\")"
      ],
      "metadata": {
        "colab": {
          "base_uri": "https://localhost:8080/"
        },
        "id": "tcm3bN2CvgCE",
        "outputId": "699e315a-0fb0-4eda-e336-402a977b2ccc"
      },
      "execution_count": 16,
      "outputs": [
        {
          "output_type": "stream",
          "name": "stdout",
          "text": [
            "Skor 75 mendapat predikat: A\n",
            "Skor 48 mendapat predikat: B\n",
            "Skor 40 mendapat predikat: E\n",
            "Skor -10 mendapat predikat: Error: Skor tidak boleh negatif.\n"
          ]
        }
      ]
    },
    {
      "cell_type": "code",
      "source": [
        "def hitung_faktorial(n):\n",
        "    \"\"\"Menghitung faktorial dari bilangan positif n dengan penanganan kasus khusus.\"\"\"\n",
        "\n",
        "    if n < 0:\n",
        "        return \"Error: Faktorial tidak terdefinisi untuk bilangan negatif.\"\n",
        "    elif n == 0:\n",
        "        return 1\n",
        "\n",
        "    hasil = 1\n",
        "\n",
        "    while n > 1:\n",
        "        hasil *= n\n",
        "        n -= 1\n",
        "    return hasil\n",
        "\n",
        "bilangan_n = 5\n",
        "print(f\"Faktorial dari {bilangan_n} adalah: {hitung_faktorial(bilangan_n)}\")\n",
        "print(f\"Faktorial dari 0 adalah: {hitung_faktorial(12)}\")\n",
        "print(f\"Faktorial dari -3 adalah: {hitung_faktorial(7)}\")"
      ],
      "metadata": {
        "colab": {
          "base_uri": "https://localhost:8080/"
        },
        "id": "x1ZRXrc8wRy0",
        "outputId": "5b4db2c4-9800-45de-8031-0b6f9b029e14"
      },
      "execution_count": 18,
      "outputs": [
        {
          "output_type": "stream",
          "name": "stdout",
          "text": [
            "Faktorial dari 5 adalah: 120\n",
            "Faktorial dari 0 adalah: 479001600\n",
            "Faktorial dari -3 adalah: 5040\n"
          ]
        }
      ]
    },
    {
      "cell_type": "code",
      "source": [
        "def analisis_suhu(data_suhu, batas_panas=35, batas_dingin=15):\n",
        "    \"\"\"Menghitung jumlah hari Panas dan Dingin dari data_suhu dengan batas suhu yang dapat diatur.\"\"\"\n",
        "\n",
        "    panas_count = 0\n",
        "    dingin_count = 0\n",
        "\n",
        "    for suhu in data_suhu:\n",
        "        if suhu >= batas_panas:\n",
        "            panas_count += 1\n",
        "        elif suhu <= batas_dingin:\n",
        "            dingin_count += 1\n",
        "\n",
        "    return panas_count, dingin_count\n",
        "\n",
        "suhu_mingguan = [36, 30, 14, 25, 38, 16, 28]\n",
        "jumlah_panas, jumlah_dingin = analisis_suhu(suhu_mingguan)\n",
        "print(f\"Jumlah hari Panas (>=35°C): {jumlah_panas}\")\n",
        "print(f\"Jumlah hari Dingin (<=15°C): {jumlah_dingin}\")\n",
        "\n",
        "jumlah_panas2, jumlah_dingin2 = analisis_suhu(suhu_mingguan, batas_panas=33, batas_dingin=18)\n",
        "print(f\"\\nDengan batas baru (Panas>=33, Dingin<=18):\")\n",
        "print(f\"Hari Panas: {jumlah_panas2}\")\n",
        "print(f\"Hari Dingin: {jumlah_dingin2}\")"
      ],
      "metadata": {
        "colab": {
          "base_uri": "https://localhost:8080/"
        },
        "id": "JApfr1-WwqHk",
        "outputId": "c67fc736-0a25-4279-aa06-aeb63a4169e0"
      },
      "execution_count": 19,
      "outputs": [
        {
          "output_type": "stream",
          "name": "stdout",
          "text": [
            "Jumlah hari Panas (>=35°C): 2\n",
            "Jumlah hari Dingin (<=15°C): 1\n",
            "\n",
            "Dengan batas baru (Panas>=33, Dingin<=18):\n",
            "Hari Panas: 2\n",
            "Hari Dingin: 2\n"
          ]
        }
      ]
    },
    {
      "cell_type": "markdown",
      "source": [
        "TUGAS PERTEMUAN 6"
      ],
      "metadata": {
        "id": "8xV_jd0qoaSJ"
      }
    },
    {
      "cell_type": "code",
      "execution_count": 1,
      "metadata": {
        "id": "0IAxzc6jQ5cB",
        "colab": {
          "base_uri": "https://localhost:8080/"
        },
        "outputId": "751e4f49-b9c5-4082-9c74-9568d590a67b"
      },
      "outputs": [
        {
          "output_type": "stream",
          "name": "stdout",
          "text": [
            "Halo! Selamat datang di Python.\n"
          ]
        }
      ],
      "source": [
        "def sapa():\n",
        "    print(\"Halo! Selamat datang di Python.\")\n",
        "\n",
        "# Pemanggilan fungsi\n",
        "sapa()"
      ]
    },
    {
      "cell_type": "code",
      "source": [
        "def analisis_suhu():\n",
        "    # Dictionary berisi data suhu harian (non-primitif)\n",
        "    suhu_harian = {\n",
        "        \"Senin\": 30,\n",
        "        \"Selasa\": 32,\n",
        "        \"Rabu\": 28,\n",
        "        \"Kamis\": 31,\n",
        "        \"Jumat\": 33,\n",
        "        \"Sabtu\": 29,\n",
        "        \"Minggu\": 27\n",
        "    }\n",
        "\n",
        "    total = 0               # int (primitif)\n",
        "    suhu_tertinggi = -999   # inisialisasi suhu tinggi\n",
        "    suhu_terendah = 999     # inisialisasi suhu rendah\n",
        "    hari_tertinggi = \"\"\n",
        "    hari_terendah = \"\"\n",
        "\n",
        "    # Perulangan for untuk menghitung total dan mencari suhu ekstrem\n",
        "    for hari, suhu in suhu_harian.items():\n",
        "        total += suhu\n",
        "\n",
        "        if suhu > suhu_tertinggi:\n",
        "            suhu_tertinggi = suhu\n",
        "            hari_tertinggi = hari\n",
        "        if suhu < suhu_terendah:\n",
        "            suhu_terendah = suhu\n",
        "            hari_terendah = hari\n",
        "\n",
        "    # Hitung rata-rata suhu\n",
        "    rata_rata = total / len(suhu_harian)\n",
        "\n",
        "    # Menampilkan hasil\n",
        "    print(\"=== HASIL ANALISIS SUHU HARIAN ===\")\n",
        "    print(\"Data suhu:\", suhu_harian)\n",
        "    print(f\"Rata-rata suhu: {rata_rata}°C\")\n",
        "    print(f\"Suhu tertinggi: {suhu_tertinggi}°C pada hari {hari_tertinggi}\")\n",
        "    print(f\"Suhu terendah: {suhu_terendah}°C pada hari {hari_terendah}\")\n",
        "\n",
        "    # Tampilkan data suhu satu per satu menggunakan while loop\n",
        "    print(\"\\n=== DAFTAR SUHU PER HARI ===\")\n",
        "    hari_list = list(suhu_harian.keys())\n",
        "    i = 0\n",
        "    while i < len(hari_list):\n",
        "        print(f\"{hari_list[i]}: {suhu_harian[hari_list[i]]}°C\")\n",
        "        i += 1\n",
        "\n",
        "\n",
        "# Pemanggilan fungsi\n",
        "analisis_suhu()"
      ],
      "metadata": {
        "colab": {
          "base_uri": "https://localhost:8080/"
        },
        "id": "otoXUBX3oy3X",
        "outputId": "44266b99-b5f1-4006-a407-37511a4f59d9"
      },
      "execution_count": 3,
      "outputs": [
        {
          "output_type": "stream",
          "name": "stdout",
          "text": [
            "=== HASIL ANALISIS SUHU HARIAN ===\n",
            "Data suhu: {'Senin': 30, 'Selasa': 32, 'Rabu': 28, 'Kamis': 31, 'Jumat': 33, 'Sabtu': 29, 'Minggu': 27}\n",
            "Rata-rata suhu: 30.0°C\n",
            "Suhu tertinggi: 33°C pada hari Jumat\n",
            "Suhu terendah: 27°C pada hari Minggu\n",
            "\n",
            "=== DAFTAR SUHU PER HARI ===\n",
            "Senin: 30°C\n",
            "Selasa: 32°C\n",
            "Rabu: 28°C\n",
            "Kamis: 31°C\n",
            "Jumat: 33°C\n",
            "Sabtu: 29°C\n",
            "Minggu: 27°C\n"
          ]
        }
      ]
    },
    {
      "cell_type": "code",
      "source": [],
      "metadata": {
        "id": "kc6lfo6wpFwx"
      },
      "execution_count": null,
      "outputs": []
    }
  ]
}