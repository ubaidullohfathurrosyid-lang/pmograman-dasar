{
  "nbformat": 4,
  "nbformat_minor": 0,
  "metadata": {
    "colab": {
      "provenance": [],
      "authorship_tag": "ABX9TyM8RS4VzXsvq0BTFwc8SEx0",
      "include_colab_link": true
    },
    "kernelspec": {
      "name": "python3",
      "display_name": "Python 3"
    },
    "language_info": {
      "name": "python"
    }
  },
  "cells": [
    {
      "cell_type": "markdown",
      "metadata": {
        "id": "view-in-github",
        "colab_type": "text"
      },
      "source": [
        "<a href=\"https://colab.research.google.com/github/ubaidullohfathurrosyid-lang/pmograman-dasar/blob/main/PRATIKUM%203.ipynb\" target=\"_parent\"><img src=\"https://colab.research.google.com/assets/colab-badge.svg\" alt=\"Open In Colab\"/></a>"
      ]
    },
    {
      "cell_type": "markdown",
      "source": [
        "PRATIKUM 3"
      ],
      "metadata": {
        "id": "fcmte_66jiw7"
      }
    },
    {
      "cell_type": "code",
      "execution_count": 1,
      "metadata": {
        "colab": {
          "base_uri": "https://localhost:8080/"
        },
        "id": "KHGwxjkZjZi2",
        "outputId": "9baa50c7-8c3e-4c93-9edf-38c4a788091f"
      },
      "outputs": [
        {
          "name": "stdout",
          "output_type": "stream",
          "text": [
            "Berapa porsi makan yang Anda beli?: 3\n",
            "Siapa Nama Pelanggan?: ubai\n"
          ]
        }
      ],
      "source": [
        "total = float(input(\"Berapa porsi makan yang Anda beli?: \"))\n",
        "Nama = str(input(\"Siapa Nama Pelanggan?: \"))"
      ]
    },
    {
      "cell_type": "code",
      "source": [
        "food = \"bubur ayam\"\n",
        "\n",
        "print(\"ubai sedang memesan\")"
      ],
      "metadata": {
        "colab": {
          "base_uri": "https://localhost:8080/"
        },
        "id": "gqTPz-kIj7mB",
        "outputId": "d8dc6abb-cdea-487d-c60c-c312f2727120"
      },
      "execution_count": 2,
      "outputs": [
        {
          "output_type": "stream",
          "name": "stdout",
          "text": [
            "frans sedang memesan\n"
          ]
        }
      ]
    },
    {
      "cell_type": "code",
      "source": [
        "food = \"bubur ayam\"\n",
        "\n",
        "print(\"ubai sedang memesan\", food)\n",
        "\n",
        "print(\"ubai sedang memesan\"+food)\n",
        "\n",
        "print(\"ubai sedang memesan %s\" % (food))"
      ],
      "metadata": {
        "colab": {
          "base_uri": "https://localhost:8080/"
        },
        "id": "Ne6T6ouQkGi0",
        "outputId": "be0a59ae-5a09-4515-8b71-5c69b43ccdb3"
      },
      "execution_count": 3,
      "outputs": [
        {
          "output_type": "stream",
          "name": "stdout",
          "text": [
            "ubai sedang memesan bubur ayam\n",
            "ubai sedang memesanbubur ayam\n",
            "ubai sedang memesan bubur ayam\n"
          ]
        }
      ]
    },
    {
      "cell_type": "code",
      "source": [
        "food = \"bubur ayam \"\n",
        "print(\"ubai sedang memesan\", food)\n",
        "print (\"ubai sedang memesan\"+ food)\n",
        "print (\"ubai sedang memesan %s\"% (food))\n"
      ],
      "metadata": {
        "colab": {
          "base_uri": "https://localhost:8080/"
        },
        "id": "_7MuyEf5kOyz",
        "outputId": "1c4a2a8d-4286-4b05-f081-7e472b8c44f4"
      },
      "execution_count": 5,
      "outputs": [
        {
          "output_type": "stream",
          "name": "stdout",
          "text": [
            "ubai sedang memesan bubur ayam \n",
            "ubai sedang memesanbubur ayam \n",
            "ubai sedang memesan bubur ayam \n"
          ]
        }
      ]
    },
    {
      "cell_type": "code",
      "source": [
        "a = 20\n",
        "b = 5\n",
        "print(\"penjumlahan:\",a+b )\n",
        "print(\"pengurangan:\",a-b)\n",
        "print(\"perkalian:\",a*b)\n",
        "print(\"pembagian:\",a/b)\n"
      ],
      "metadata": {
        "colab": {
          "base_uri": "https://localhost:8080/"
        },
        "id": "mQ97s0mtkbTi",
        "outputId": "dde17983-64bf-4bf2-ea81-11db2fca4253"
      },
      "execution_count": 6,
      "outputs": [
        {
          "output_type": "stream",
          "name": "stdout",
          "text": [
            "penjumlahan: 25\n",
            "pengurangan: 15\n",
            "perkalian: 100\n",
            "pembagian: 4.0\n"
          ]
        }
      ]
    },
    {
      "cell_type": "code",
      "source": [
        "bilangan = 10\n",
        "hasil =(bilangan > 0) and (bilangan % 2 ==0)\n",
        "print (\"genap dan positif?\",hasil)"
      ],
      "metadata": {
        "colab": {
          "base_uri": "https://localhost:8080/"
        },
        "id": "N306OnKWkkRD",
        "outputId": "261b4099-3b21-4438-8707-12f63a83578e"
      },
      "execution_count": 9,
      "outputs": [
        {
          "output_type": "stream",
          "name": "stdout",
          "text": [
            "genap dan positif? True\n"
          ]
        }
      ]
    },
    {
      "cell_type": "code",
      "source": [
        "#konversi waktu\n",
        "total_detik= 3600\n",
        "jam = total_detik//3600\n",
        "sisa_detik = total_detik%3600\n",
        "menit = sisa_detik//6\n",
        "detik = sisa_detik%60\n",
        "print(f\"hasil konversi:{jam}jam, {menit}menit,{detik}detik\")"
      ],
      "metadata": {
        "colab": {
          "base_uri": "https://localhost:8080/"
        },
        "id": "TX3PXUb_kvHd",
        "outputId": "653abb93-05da-40bf-f547-911de2416526"
      },
      "execution_count": 10,
      "outputs": [
        {
          "output_type": "stream",
          "name": "stdout",
          "text": [
            "hasil konversi:1jam, 0menit,0detik\n"
          ]
        }
      ]
    },
    {
      "cell_type": "code",
      "source": [
        "harga_makan= int (input(\"berapa harga mie goreng per porsi?\"))\n",
        "jumlah_makan= int (input(\"berapa porsi yang anda beli?\"))\n",
        "total_makan=harga_makan*jumlah_makan\n",
        "\n",
        "print(f\"harga makan per porsi ={harga_makan};totalnya adalah {total_makan}\")"
      ],
      "metadata": {
        "colab": {
          "base_uri": "https://localhost:8080/"
        },
        "id": "1Ne1s60qk1In",
        "outputId": "c027d45f-173a-4d79-ff71-bcd039642fd8"
      },
      "execution_count": 11,
      "outputs": [
        {
          "output_type": "stream",
          "name": "stdout",
          "text": [
            "berapa harga mie goreng per porsi?25000\n",
            "berapa porsi yang anda beli?3\n",
            "harga makan per porsi =25000;totalnya adalah 75000\n"
          ]
        }
      ]
    },
    {
      "cell_type": "code",
      "source": [
        "tugas = 95\n",
        "uts = 92\n",
        "uas = 89\n",
        "nilai_akhir =(0.3*tugas )+(0.3*uts)+(0.3*uas)\n",
        "print(\"nilai akhir=\",nilai_akhir)\n",
        "\n",
        "nilai_akhir = 76.8"
      ],
      "metadata": {
        "colab": {
          "base_uri": "https://localhost:8080/"
        },
        "id": "KcnODm3plB0y",
        "outputId": "7432d626-f3fb-418f-c0ac-e915ac32f539"
      },
      "execution_count": 12,
      "outputs": [
        {
          "output_type": "stream",
          "name": "stdout",
          "text": [
            "nilai akhir= 82.8\n"
          ]
        }
      ]
    },
    {
      "cell_type": "code",
      "source": [
        "nilai_mahasiswa = 95\n",
        "standar_kelulusan = 80\n",
        "apakah_lulus = nilai_mahasiswa >= standar_kelulusan\n",
        "perlu_remedial = nilai_mahasiswa < standar_kelulusan\n",
        "print (f\"nilai mahasiswa :{nilai_mahasiswa}\")\n",
        "print (f\"standar kelulusan:{standar_kelulusan}\")\n",
        "print (f\"apakah mahasiswa lulus?{apakah_lulus}\")\n",
        "print (f\"perlu remedial? {perlu_remedial}\")"
      ],
      "metadata": {
        "colab": {
          "base_uri": "https://localhost:8080/"
        },
        "id": "iz3unH2LlKpq",
        "outputId": "53e4d466-5fef-46dc-b141-b68fda4e3023"
      },
      "execution_count": 13,
      "outputs": [
        {
          "output_type": "stream",
          "name": "stdout",
          "text": [
            "nilai mahasiswa :95\n",
            "standar kelulusan:80\n",
            "apakah mahasiswa lulus?True\n",
            "perlu remedial? False\n"
          ]
        }
      ]
    },
    {
      "cell_type": "code",
      "source": [
        "belanja = 2500000\n",
        "diskon = (0,0.5*belanja)[belanja>500000]\n",
        "total_harga = belanja - diskon\n",
        "print (\"total harga setelah diskon =\", total_harga)"
      ],
      "metadata": {
        "colab": {
          "base_uri": "https://localhost:8080/"
        },
        "id": "4GKDpqrIlQcd",
        "outputId": "0f86cb0a-302d-493c-fc8c-9594c7c5152a"
      },
      "execution_count": 14,
      "outputs": [
        {
          "output_type": "stream",
          "name": "stdout",
          "text": [
            "total harga setelah diskon = 1250000.0\n"
          ]
        }
      ]
    }
  ]
}