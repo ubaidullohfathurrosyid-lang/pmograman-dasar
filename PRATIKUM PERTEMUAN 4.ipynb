{
  "nbformat": 4,
  "nbformat_minor": 0,
  "metadata": {
    "colab": {
      "provenance": [],
      "authorship_tag": "ABX9TyOW41q96HeEvrzU2aXAQkVy",
      "include_colab_link": true
    },
    "kernelspec": {
      "name": "python3",
      "display_name": "Python 3"
    },
    "language_info": {
      "name": "python"
    }
  },
  "cells": [
    {
      "cell_type": "markdown",
      "metadata": {
        "id": "view-in-github",
        "colab_type": "text"
      },
      "source": [
        "<a href=\"https://colab.research.google.com/github/ubaidullohfathurrosyid-lang/pmograman-dasar/blob/main/PRATIKUM%20PERTEMUAN%204.ipynb\" target=\"_parent\"><img src=\"https://colab.research.google.com/assets/colab-badge.svg\" alt=\"Open In Colab\"/></a>"
      ]
    },
    {
      "cell_type": "markdown",
      "source": [
        "PRATIKUM PERTEMUAN 4"
      ],
      "metadata": {
        "id": "co86TejJcKD2"
      }
    },
    {
      "cell_type": "code",
      "execution_count": null,
      "metadata": {
        "colab": {
          "base_uri": "https://localhost:8080/"
        },
        "id": "5NI7Y87gFREm",
        "outputId": "48ea763b-a0bd-4975-8920-27f2b10cfd6f"
      },
      "outputs": [
        {
          "output_type": "stream",
          "name": "stdout",
          "text": [
            "Pengunjung adalah orang dewasa.\n"
          ]
        }
      ],
      "source": [
        "#Variabel untuk menyimpan umur pengunjung\n",
        "umur: int = 20\n",
        "#Program hanya akan mencetak pesan jika umur di atas 17 if umur > 17:\n",
        "print(\"Pengunjung adalah orang dewasa.\")"
      ]
    },
    {
      "cell_type": "code",
      "source": [
        "username = input(\"Masukkan username: \")\n",
        "\n",
        "password = input(\"Masukkan password: \")\n",
        "\n",
        "if username == \"ubaidulloh fr\" and password == \"1234\":\n",
        "  print(\"Login berhasil\")\n",
        "else:\n",
        "  print(\"Login gagal\")"
      ],
      "metadata": {
        "colab": {
          "base_uri": "https://localhost:8080/"
        },
        "id": "Y1DZmC7RFq-f",
        "outputId": "d88b171b-2a61-4486-ef98-5c1c39fd11b1"
      },
      "execution_count": null,
      "outputs": [
        {
          "output_type": "stream",
          "name": "stdout",
          "text": [
            "Masukkan username: ubaidulloh fr\n",
            "Masukkan password: 1234\n",
            "Login berhasil\n"
          ]
        }
      ]
    },
    {
      "cell_type": "code",
      "source": [
        "# program untuk mengecek bonus dan diskon total belanja\n",
        "total_belanja = int(input(\"Total belanja: Rp\"))\n",
        "\n",
        "# jumlah yang harus dibayar adalah berapa total belanjaannya\n",
        "bayar = total_belanja\n",
        "\n",
        "# tapi kalau dapat diskon akan berkurang\n",
        "\n",
        "# jika dia belanja di atas 100rb maka berikan bonus dan diskon\n",
        "if total_belanja > 100000:\n",
        "  print(\"Selamat Karena Belanja Rp. 100.000 anda mendapat Voucher Makan\")\n",
        "  print(\"dan diskon 5%\")\n",
        "\n",
        "  # hitung diskonnya\n",
        "  diskon = total_belanja * 0.05  # Calculate 5% discount\n",
        "  bayar = total_belanja - diskon\n",
        "\n",
        "# cetak struk\n",
        "print(\"Total yang harus dibayar Rp %s\" % bayar)\n",
        "print(\"Terima kasih sudah berbelanja di Toko Kami\")\n",
        "print(\"Kami Tunggu kunjungan anda selanjutnya.\")"
      ],
      "metadata": {
        "colab": {
          "base_uri": "https://localhost:8080/"
        },
        "id": "WwMfVPoQGWQn",
        "outputId": "7b56aed4-523f-4d4d-e5a2-1e0f39de21c2"
      },
      "execution_count": null,
      "outputs": [
        {
          "output_type": "stream",
          "name": "stdout",
          "text": [
            "Total belanja: Rp100000\n",
            "Total yang harus dibayar Rp 100000\n",
            "Terima kasih sudah berbelanja di Toko Kami\n",
            "Kami Tunggu kunjungan anda selanjutnya.\n"
          ]
        }
      ]
    },
    {
      "cell_type": "code",
      "source": [
        "#Variabel untuk memeriksa apakah ada notifikasi baru\n",
        "\n",
        "ada_notifikasi_baru: bool = True\n",
        "\n",
        "if ada_notifikasi_baru:\n",
        "\n",
        "  print(\"Anda memiliki pesan baru!\")"
      ],
      "metadata": {
        "colab": {
          "base_uri": "https://localhost:8080/"
        },
        "id": "PJk_FRyCGtFS",
        "outputId": "12e9362e-0837-405c-b533-eaf004aefc3c"
      },
      "execution_count": null,
      "outputs": [
        {
          "output_type": "stream",
          "name": "stdout",
          "text": [
            "Anda memiliki pesan baru!\n"
          ]
        }
      ]
    },
    {
      "cell_type": "code",
      "source": [
        "umur = input(\"Berapa umur kamu: \")\n",
        "\n",
        "if int(umur) >= 18:\n",
        "  print(\"Kamu boleh membuat SIM\")\n",
        "else:\n",
        "  print(\"Kamu belum boleh membuat SIM\")"
      ],
      "metadata": {
        "colab": {
          "base_uri": "https://localhost:8080/"
        },
        "id": "_bw_ojiyHkYu",
        "outputId": "fcb4365b-4321-445f-803f-02481aeb0a56"
      },
      "execution_count": null,
      "outputs": [
        {
          "output_type": "stream",
          "name": "stdout",
          "text": [
            "Berapa umur kamu: 22\n",
            "Kamu boleh membuat SIM\n"
          ]
        }
      ]
    },
    {
      "cell_type": "code",
      "source": [
        "total_belanja = 250000 #asumsikan total belanjat di atas 20rb\n",
        "\n",
        "if total_belanja > 200000:\n",
        "    diskon = total_belanja * 0.10\n",
        "    total_bayar = total_belanja - diskon\n",
        "    print(f\"Anda mendapat diskon! Total bayar: Rp {total_bayar}\")\n",
        "else:\n",
        "    print(f\"Total bayar: Rp {total_belanja}\")"
      ],
      "metadata": {
        "colab": {
          "base_uri": "https://localhost:8080/"
        },
        "id": "gMMt39sZICNX",
        "outputId": "920b32ca-7a41-413d-a9db-020536f1bdc2"
      },
      "execution_count": null,
      "outputs": [
        {
          "output_type": "stream",
          "name": "stdout",
          "text": [
            "Anda mendapat diskon! Total bayar: Rp 225000.0\n"
          ]
        }
      ]
    },
    {
      "cell_type": "code",
      "source": [
        "angka = int(input(\"Masukkan bilangan: \"))\n",
        "\n",
        "if angka % 2 == 0:\n",
        "  print(\"Bilangan Genap\")\n",
        "else:\n",
        "  print(\"Bilangan Ganjil\")"
      ],
      "metadata": {
        "colab": {
          "base_uri": "https://localhost:8080/"
        },
        "id": "2Y0i7F9SIMqR",
        "outputId": "aed82928-4a1f-44c8-de52-90a119a32ac1"
      },
      "execution_count": null,
      "outputs": [
        {
          "output_type": "stream",
          "name": "stdout",
          "text": [
            "Masukkan bilangan: 10\n",
            "Bilangan Genap\n"
          ]
        }
      ]
    },
    {
      "cell_type": "code",
      "source": [
        "nilai = 80\n",
        "\n",
        "if nilai > 85:\n",
        "  print(\"Luar biasal Nilai A\")\n",
        "\n",
        "elif nilai >= 70:\n",
        "  print(\"Bagus! Nilai B\")\n",
        "\n",
        "elif nilai >= 60:\n",
        "  print(\"Cukup. Nilai C\")\n",
        "\n",
        "else:\n",
        "  print(\"Nilai kurang, perlu belajar lebih giat.\")"
      ],
      "metadata": {
        "colab": {
          "base_uri": "https://localhost:8080/"
        },
        "id": "XE3uNtBTIyHk",
        "outputId": "41fb56b4-39c1-4641-c5d9-1004f3e7691a"
      },
      "execution_count": null,
      "outputs": [
        {
          "output_type": "stream",
          "name": "stdout",
          "text": [
            "Bagus! Nilai B\n"
          ]
        }
      ]
    },
    {
      "cell_type": "code",
      "source": [
        "#Menentukan jenis diskon berdasarkan hari\n",
        "\n",
        "hari: str = \"Sabtu\"\n",
        "\n",
        "if hari == \"Sabtu\" or hari == \"Minggu\":\n",
        "  diskon: float = 0.20 # Diskon 20%\n",
        "  print(f\"Selamat! Anda mendapat diskon akhir pekan sebesar {diskon*100}%.\")\n",
        "\n",
        "elif hari == \"Jumat\":\n",
        "  diskon: float = 0.15 # Diskon 15%\n",
        "  print(f\"Diskon spesial Jumat! Anda mendapat potongan {diskon*100}%.\")\n",
        "\n",
        "else:\n",
        "  diskon: float = 0.05# Diskon 5%\n",
        "  print(f\"Anda mendapat diskon hari biasa sebesar {diskon*100}%.\")"
      ],
      "metadata": {
        "colab": {
          "base_uri": "https://localhost:8080/"
        },
        "id": "9Lmf8R3BI-x4",
        "outputId": "9ba3f1d8-58ff-4288-d338-714182d9a0ad"
      },
      "execution_count": null,
      "outputs": [
        {
          "output_type": "stream",
          "name": "stdout",
          "text": [
            "Selamat! Anda mendapat diskon akhir pekan sebesar 20.0%.\n"
          ]
        }
      ]
    },
    {
      "cell_type": "code",
      "source": [
        "rupiah = int(input(\"Masukkan jumlah uang (Rp): \"))\n",
        "\n",
        "print(\"1. Dollar (USD)\")\n",
        "\n",
        "print(\"2. Euro (EUR)\")\n",
        "\n",
        "print(\"3. Yen (JPY)\")\n",
        "\n",
        "pilih = int(input(\"Pilih konversi (1/2/3): \"))\n",
        "\n",
        "if pilih == 1:\n",
        "\n",
        "  print(\"Dalam Dollar:\", rupiah / 15000)\n",
        "\n",
        "elif pilih == 2:\n",
        "\n",
        "  print(\"Dalam Euro:\", rupiah / 16000)\n",
        "\n",
        "elif pilih == 3:\n",
        "\n",
        "  print(\"Dalam Yen:\", rupiah / 120)\n",
        "\n",
        "else:\n",
        "\n",
        "  print(\"Pilihan tidak valid\")"
      ],
      "metadata": {
        "colab": {
          "base_uri": "https://localhost:8080/"
        },
        "id": "ycji6pcmJrO2",
        "outputId": "c0ce7c0c-6ce0-44a8-b8d0-7350574e752d"
      },
      "execution_count": null,
      "outputs": [
        {
          "output_type": "stream",
          "name": "stdout",
          "text": [
            "Masukkan jumlah uang (Rp): 20000\n",
            "1. Dollar (USD)\n",
            "2. Euro (EUR)\n",
            "3. Yen (JPY)\n",
            "Pilih konversi (1/2/3): 2\n",
            "Dalam Euro: 1.25\n"
          ]
        }
      ]
    }
  ]
}